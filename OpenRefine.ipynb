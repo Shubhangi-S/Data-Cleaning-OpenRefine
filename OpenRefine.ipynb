{
 "cells": [
  {
   "cell_type": "markdown",
   "metadata": {},
   "source": [
    "Before you turn this problem in, make sure everything runs as expected. First, **restart the kernel** (in the menubar, select Kernel$\\rightarrow$Restart) and then **run all cells** (in the menubar, select Cell$\\rightarrow$Run All).\n",
    "\n",
    "Make sure you fill in any place that says `YOUR CODE HERE` or \"YOUR ANSWER HERE\", as well as your name below:"
   ]
  },
  {
   "cell_type": "code",
   "execution_count": 1,
   "metadata": {},
   "outputs": [],
   "source": [
    "NAME = \"Shubhangi Singhal\"\n"
   ]
  },
  {
   "cell_type": "markdown",
   "metadata": {},
   "source": [
    "---"
   ]
  },
  {
   "cell_type": "markdown",
   "metadata": {
    "deletable": false,
    "editable": false,
    "nbgrader": {
     "checksum": "e5182c24740d8ec3f1580945729f35b6",
     "grade": false,
     "grade_id": "cell-09633857002fa20d",
     "locked": true,
     "schema_version": 1,
     "solution": false
    }
   },
   "source": [
    "# OpenRefine\n",
    "The goal of the assignment is to get you started on OpenRefine. We will see some common ways in which OpenRefine is used.\n",
    "\n",
    "You have to install and run OpenRefine version 3.3 on your local machine (https://openrefine.org/download.html). Here in this notebook, you will just share some of the findings with us."
   ]
  },
  {
   "cell_type": "markdown",
   "metadata": {
    "deletable": false,
    "editable": false,
    "nbgrader": {
     "checksum": "2a039758dfa6a55322506123f375fb94",
     "grade": false,
     "grade_id": "cell-e9680b12929f722f",
     "locked": true,
     "schema_version": 1,
     "solution": false
    }
   },
   "source": [
    "## Warm Up\n",
    "This assignment is a variation of the Data Carpentry’s OpenRefine for Ecology warm-up activity (http://www.datacarpentry.org/OpenRefine-ecology-lesson/). You’re encouraged to walk through the Data Carpentry’s lessons first, and **post your comments on the Moodle discussion forum** before starting this assignment. You’re also welcome to go through the Carpentry lessons and work on this assignment at the same time. Enjoy!"
   ]
  },
  {
   "cell_type": "markdown",
   "metadata": {
    "deletable": false,
    "editable": false,
    "nbgrader": {
     "checksum": "25a0dcc0a1df75d711de72edfded616b",
     "grade": false,
     "grade_id": "cell-10eb5e3af3cb1ec4",
     "locked": true,
     "schema_version": 1,
     "solution": false
    }
   },
   "source": [
    "## Creating the Project\n",
    "1. Download the sample dataset, we will be using in this assignment from here: https://ndownloader.figshare.com/files/7823341\n",
    "2. Once OpenRefine is launched in your browser, the left margin has options to `Create Project`, `Open Project`, or `Import Project`. Here we will create a new project:\n",
    "3. Click `Create Project` and select `Get data from This Computer`.\n",
    "4. Click `Choose Files` and select the file `Portal_rodents_19772002_scinameUUIDs.csv`. Click `Open` or double-click on the filename.\n",
    "5. Click `Next>>` under the browse button to upload the data into OpenRefine.\n",
    "6. OpenRefine gives you a preview - a chance to show you it understood the file. If, for example, your file was really tab-delimited, the preview might look strange, you would choose the correct separator in the box shown and click `Update Preview` (bottom left). If this is the wrong file, click `<<Start Over` (upper left).\n",
    "7. If all looks well, click `Create Project>>` (upper right).\n"
   ]
  },
  {
   "cell_type": "markdown",
   "metadata": {
    "deletable": false,
    "editable": false,
    "nbgrader": {
     "checksum": "6db1dd2b2c97a0ee7c0c78859c7ac9d5",
     "grade": false,
     "grade_id": "cell-c00aca06201ec467",
     "locked": true,
     "schema_version": 1,
     "solution": false
    }
   },
   "source": [
    "## Faceting\n"
   ]
  },
  {
   "cell_type": "markdown",
   "metadata": {
    "deletable": false,
    "editable": false,
    "nbgrader": {
     "checksum": "f2e9e702bb5846345159bce3fe074712",
     "grade": false,
     "grade_id": "cell-49827ec31993177e",
     "locked": true,
     "schema_version": 1,
     "solution": false
    }
   },
   "source": [
    "### Here we will use faceting to look for potential errors in data entry in the `scientificName` column. \n",
    "1. Scroll over to the scientificName column. \n",
    "2. Click the down arrow and choose Facet > Text facet.\n",
    "3. In the left panel, you’ll now see a box containing every unique value in the `scientificName` column along with a number representing how many times that value occurs in the column.\n",
    "4. Try sorting this facet by name and by count and answer the following questions"
   ]
  },
  {
   "cell_type": "markdown",
   "metadata": {
    "deletable": false,
    "editable": false,
    "nbgrader": {
     "checksum": "0dd55746dd79316dd99bf9f1778683d1",
     "grade": false,
     "grade_id": "cell-bf02f30b94880663",
     "locked": true,
     "schema_version": 1,
     "solution": false
    }
   },
   "source": [
    "[8 points] How many choices (different values) of scientific names are there?  "
   ]
  },
  {
   "cell_type": "code",
   "execution_count": 2,
   "metadata": {
    "deletable": false,
    "nbgrader": {
     "checksum": "3c8d16544d9bb7f6a7d52bcb8822dd1c",
     "grade": false,
     "grade_id": "cell-71f6e021e37c1f5f",
     "locked": false,
     "schema_version": 1,
     "solution": true
    }
   },
   "outputs": [],
   "source": [
    "# Edit following variable to answer the question above.\n",
    "num_of_choices_of_scientific_names = 28\n",
    "\n"
   ]
  },
  {
   "cell_type": "code",
   "execution_count": 3,
   "metadata": {
    "deletable": false,
    "editable": false,
    "nbgrader": {
     "checksum": "81495b5ba6f3850da3d5a325244342fa",
     "grade": true,
     "grade_id": "cell-d926d6657710a32b",
     "locked": true,
     "points": 8,
     "schema_version": 1,
     "solution": false
    }
   },
   "outputs": [],
   "source": [
    "# This cell will test if you gave the above answer correctly.\n",
    "# It will only run after submission\n"
   ]
  },
  {
   "cell_type": "markdown",
   "metadata": {
    "deletable": false,
    "editable": false,
    "nbgrader": {
     "checksum": "e2755f1d68ac93d3d5ecdd6c1f697620",
     "grade": false,
     "grade_id": "cell-5f64303ccccb996e",
     "locked": true,
     "schema_version": 1,
     "solution": false
    }
   },
   "source": [
    "[8 points] How many times did Dipodomys ordii occur? "
   ]
  },
  {
   "cell_type": "code",
   "execution_count": 4,
   "metadata": {
    "deletable": false,
    "nbgrader": {
     "checksum": "49097516569e3bd161495c2273b54242",
     "grade": false,
     "grade_id": "cell-1f45809975be8f80",
     "locked": false,
     "schema_version": 1,
     "solution": true
    }
   },
   "outputs": [],
   "source": [
    "# Edit following variable to answer the question above.\n",
    "num_of_times_dipodomys_ordii_occured = 3027\n",
    "\n"
   ]
  },
  {
   "cell_type": "code",
   "execution_count": 5,
   "metadata": {
    "deletable": false,
    "editable": false,
    "nbgrader": {
     "checksum": "d93baf4c16bf0582550be33aa310b330",
     "grade": true,
     "grade_id": "cell-a12e71298e781fd2",
     "locked": true,
     "points": 8,
     "schema_version": 1,
     "solution": false
    }
   },
   "outputs": [],
   "source": [
    "# This cell will test if you gave the above answer correctly.\n",
    "# It will only run after submission\n"
   ]
  },
  {
   "cell_type": "markdown",
   "metadata": {
    "deletable": false,
    "editable": false,
    "nbgrader": {
     "checksum": "50ecfe8b5fcec1f704eda443d9d7ab60",
     "grade": false,
     "grade_id": "cell-ab4cd1eb703eb0b9",
     "locked": true,
     "schema_version": 1,
     "solution": false
    }
   },
   "source": [
    "[8 points] Which scientific name has the highest count?"
   ]
  },
  {
   "cell_type": "code",
   "execution_count": 6,
   "metadata": {
    "deletable": false,
    "nbgrader": {
     "checksum": "c430e9e2d8b497a065b317b5641a2ca1",
     "grade": false,
     "grade_id": "cell-8d3158cf8e05a5e1",
     "locked": false,
     "schema_version": 1,
     "solution": true
    }
   },
   "outputs": [],
   "source": [
    "# Edit following variable to answer the question above.\n",
    "name_the_scientific_name_with_highest_count = 'Dipodomys merriami'\n",
    "\n"
   ]
  },
  {
   "cell_type": "code",
   "execution_count": 7,
   "metadata": {
    "deletable": false,
    "editable": false,
    "nbgrader": {
     "checksum": "29d4b5504a0a774984b2608aad03176c",
     "grade": true,
     "grade_id": "cell-2d95c2b4ce16dffa",
     "locked": true,
     "points": 8,
     "schema_version": 1,
     "solution": false
    }
   },
   "outputs": [],
   "source": [
    "# This cell will test if you gave the above answer correctly.\n",
    "# It will only run after submission\n"
   ]
  },
  {
   "cell_type": "markdown",
   "metadata": {
    "deletable": false,
    "editable": false,
    "nbgrader": {
     "checksum": "8d83f4250531d3e3d17c8b4d1c2fa973",
     "grade": false,
     "grade_id": "cell-a1ec50abe1932159",
     "locked": true,
     "schema_version": 1,
     "solution": false
    }
   },
   "source": [
    "By default, the column yr is formatted as Text. You can change the format by doing `Edit cells > Common transforms > To number`.  \n",
    "[8 points] How many cells did you transform to number? Answer in the cell below."
   ]
  },
  {
   "cell_type": "code",
   "execution_count": 8,
   "metadata": {
    "deletable": false,
    "nbgrader": {
     "checksum": "89db998420aee3bd7c04751b0a857fe6",
     "grade": false,
     "grade_id": "cell-8b89bab93c4dc4ec",
     "locked": false,
     "schema_version": 1,
     "solution": true
    }
   },
   "outputs": [],
   "source": [
    "# Edit following variable to answer the question above.\n",
    "num_of_yr_cells_transformed_to_number = 35549\n",
    "\n"
   ]
  },
  {
   "cell_type": "code",
   "execution_count": 9,
   "metadata": {
    "deletable": false,
    "editable": false,
    "nbgrader": {
     "checksum": "423189558100f89405e8f6050d3c313f",
     "grade": true,
     "grade_id": "cell-47610aef9a2c957a",
     "locked": true,
     "points": 8,
     "schema_version": 1,
     "solution": false
    }
   },
   "outputs": [],
   "source": [
    "# This cell will test if you gave the above answer correctly.\n",
    "# It will run only after submission\n"
   ]
  },
  {
   "cell_type": "markdown",
   "metadata": {
    "deletable": false,
    "editable": false,
    "nbgrader": {
     "checksum": "0207b1d3727229243623670631f30ffc",
     "grade": false,
     "grade_id": "cell-6782dc2b42031885",
     "locked": true,
     "schema_version": 1,
     "solution": false
    }
   },
   "source": [
    "Doing `Facet > Numeric facet` creates a box in the left panel that shows a histogram of the number of entries per year. Notice that the data is shown as a number, not a date. If you instead transform the column to a date, the program will assume all entries are on January 1st of the year."
   ]
  },
  {
   "cell_type": "markdown",
   "metadata": {
    "deletable": false,
    "editable": false,
    "nbgrader": {
     "checksum": "0da29f92223ce687256f5e44fd5e4b30",
     "grade": false,
     "grade_id": "cell-b8bc48ff054e22bc",
     "locked": true,
     "schema_version": 1,
     "solution": false
    }
   },
   "source": [
    "Although we’ve transformed text to number,  do another `Facet > Text facet` to find out about the count of the year with the most observations. After creating the text facet, click `Sort by count` in the facet box.  \n",
    "[10 points] 1997 is the year with the most observations. What was the count for this year? Answer in the cell below."
   ]
  },
  {
   "cell_type": "code",
   "execution_count": 10,
   "metadata": {
    "deletable": false,
    "nbgrader": {
     "checksum": "e0db2fe07f36696ec154838c9a06bd0b",
     "grade": false,
     "grade_id": "cell-3d63280ab4e0726c",
     "locked": false,
     "schema_version": 1,
     "solution": true
    }
   },
   "outputs": [],
   "source": [
    "# Edit following variable to answer the question above.\n",
    "num_of_observations_for_year_1997 = 2493\n",
    "\n"
   ]
  },
  {
   "cell_type": "code",
   "execution_count": 11,
   "metadata": {
    "deletable": false,
    "editable": false,
    "nbgrader": {
     "checksum": "121df7ecbd794271cda446053539c1ce",
     "grade": true,
     "grade_id": "cell-7f11ff8978f82acb",
     "locked": true,
     "points": 10,
     "schema_version": 1,
     "solution": false
    }
   },
   "outputs": [],
   "source": [
    "# This cell will test if you gave the above answer correctly.\n",
    "# It will run only after submission\n"
   ]
  },
  {
   "cell_type": "markdown",
   "metadata": {
    "deletable": false,
    "editable": false,
    "nbgrader": {
     "checksum": "7ecb19e25269ace277a89c06aa89c38b",
     "grade": false,
     "grade_id": "cell-c74eedbbfd8feb02",
     "locked": true,
     "schema_version": 1,
     "solution": false
    }
   },
   "source": [
    "## Clustering"
   ]
  },
  {
   "cell_type": "markdown",
   "metadata": {
    "deletable": false,
    "editable": false,
    "nbgrader": {
     "checksum": "44c837bdc993a8ee31337b7cec41be55",
     "grade": false,
     "grade_id": "cell-d76d6cb1f2b71d27",
     "locked": true,
     "schema_version": 1,
     "solution": false
    }
   },
   "source": [
    "In the `scientificName` Text Facet we created in the step above, click the `Cluster` button.  \n"
   ]
  },
  {
   "cell_type": "markdown",
   "metadata": {
    "deletable": false,
    "editable": false,
    "nbgrader": {
     "checksum": "8a58e4aa47aac69b1bcca7919322f3e8",
     "grade": false,
     "grade_id": "cell-966e92d0f34c009f",
     "locked": true,
     "schema_version": 1,
     "solution": false
    }
   },
   "source": [
    "In the resulting pop-up window, select the key collision method and metaphone3 keying function.  \n",
    "[8 points] It should identify three clusters. For the 2nd cluster: `Ammospermophilus harrisi, Ammospermophilis harrisi, Ammospermophilus harrisii`, what is the row count IN TOTAL of ALL THREE values? Answer in the cell below"
   ]
  },
  {
   "cell_type": "code",
   "execution_count": 12,
   "metadata": {
    "deletable": false,
    "nbgrader": {
     "checksum": "f028e21e0f4476a7bffae8cf5ed12668",
     "grade": false,
     "grade_id": "cell-98b090538a7f1dd5",
     "locked": false,
     "schema_version": 1,
     "solution": true
    }
   },
   "outputs": [],
   "source": [
    "# Edit following variable to answer question above.\n",
    "row_count_for_second_cluster = 437\n",
    "\n"
   ]
  },
  {
   "cell_type": "code",
   "execution_count": 13,
   "metadata": {
    "deletable": false,
    "editable": false,
    "nbgrader": {
     "checksum": "db2c534d6469226a7c00aac2c3dd27ae",
     "grade": true,
     "grade_id": "cell-c97dc244475ab7c4",
     "locked": true,
     "points": 8,
     "schema_version": 1,
     "solution": false
    }
   },
   "outputs": [],
   "source": [
    "# This cell will test if you gave the above answer correctly.\n",
    "# It will run only after submission\n"
   ]
  },
  {
   "cell_type": "markdown",
   "metadata": {
    "deletable": false,
    "editable": false,
    "nbgrader": {
     "checksum": "7ebcf6fb09ba63782c05f605aac90476",
     "grade": false,
     "grade_id": "cell-9a57e6c6d10026d0",
     "locked": true,
     "schema_version": 1,
     "solution": false
    }
   },
   "source": [
    "Click Select All, then click `Merge Selected and close` to apply the corrections to the dataset. How many cells did you make changes for this merge operation? Answer in cell below."
   ]
  },
  {
   "cell_type": "code",
   "execution_count": 14,
   "metadata": {
    "deletable": false,
    "nbgrader": {
     "checksum": "a47b5d8cd39ed8e81b53738d20b412eb",
     "grade": false,
     "grade_id": "cell-0804a0d1d14c0012",
     "locked": false,
     "schema_version": 1,
     "solution": true
    }
   },
   "outputs": [],
   "source": [
    "# Edit following variable to answer question above.\n",
    "num_cells_affected_by_merge = 739\n",
    "\n"
   ]
  },
  {
   "cell_type": "code",
   "execution_count": 15,
   "metadata": {
    "deletable": false,
    "editable": false,
    "nbgrader": {
     "checksum": "ed507d3567d43264ea3e97e1ed3823ea",
     "grade": true,
     "grade_id": "cell-067cfcc5b00d929b",
     "locked": true,
     "points": 0,
     "schema_version": 1,
     "solution": false
    }
   },
   "outputs": [],
   "source": [
    "# This cell will test if you gave the above answer correctly.\n",
    "# It will run only after submission\n"
   ]
  },
  {
   "cell_type": "markdown",
   "metadata": {
    "deletable": false,
    "editable": false,
    "nbgrader": {
     "checksum": "5498a382040680ba4e9ddd627059dfb0",
     "grade": false,
     "grade_id": "cell-083542a8bee8c155",
     "locked": true,
     "schema_version": 1,
     "solution": false
    }
   },
   "source": [
    "Do the same for the country column. Click the down arrow and choose `Facet > Text facet`. Hover over to the text facet to the place that says `US`. Click `edit`. Type in `United States`. Click `Apply`. This will change 15 cells.\n",
    "Now on this country text facet, click the `Cluster` button. In the resulting pop-up window, also select the key collision method and `metaphone3` keying function. Tick the `Merge?` box, and Merge Selected and close to apply the corrections to the dataset.  \n",
    "[8 points] How many cells did you make changes for this merge operation? Answer in the cell below."
   ]
  },
  {
   "cell_type": "code",
   "execution_count": 16,
   "metadata": {
    "deletable": false,
    "nbgrader": {
     "checksum": "f6c1bc6b407eeaf2e2daa48919c902c2",
     "grade": false,
     "grade_id": "cell-e4e980ba3840fe37",
     "locked": false,
     "schema_version": 1,
     "solution": true
    }
   },
   "outputs": [],
   "source": [
    "# Edit following variable to answer question above.\n",
    "num_cells_affected_by_merge_us = 267 \n",
    "\n"
   ]
  },
  {
   "cell_type": "code",
   "execution_count": 17,
   "metadata": {
    "deletable": false,
    "editable": false,
    "nbgrader": {
     "checksum": "614420d69c1fad56afa2fe1f5db5aeea",
     "grade": true,
     "grade_id": "cell-65e24b703a8f7efa",
     "locked": true,
     "points": 8,
     "schema_version": 1,
     "solution": false
    }
   },
   "outputs": [],
   "source": [
    "# This cell will test if you gave the above answer correctly.\n",
    "# It will run only after submission\n"
   ]
  },
  {
   "cell_type": "markdown",
   "metadata": {
    "deletable": false,
    "editable": false,
    "nbgrader": {
     "checksum": "d9b911f0dc4fb38406264b2d8a30c742",
     "grade": false,
     "grade_id": "cell-4020d7c22ca25c7e",
     "locked": true,
     "schema_version": 1,
     "solution": false
    }
   },
   "source": [
    "## Trim spaces and split"
   ]
  },
  {
   "cell_type": "markdown",
   "metadata": {
    "deletable": false,
    "editable": false,
    "nbgrader": {
     "checksum": "2a46c6dd50326e8bf7d3f2b0ef3f1b2d",
     "grade": false,
     "grade_id": "cell-7b1c097b3dd5b7f5",
     "locked": true,
     "schema_version": 1,
     "solution": false
    }
   },
   "source": [
    "In the header for the column `scientificName`, choose `Edit cells > Common transforms > Trim leading and trailing whitespace`.  \n",
    "[8 points] How many cells did you transform? Answer in the cell below."
   ]
  },
  {
   "cell_type": "code",
   "execution_count": 18,
   "metadata": {
    "deletable": false,
    "nbgrader": {
     "checksum": "c3c97476a802580323b453d4e8460e18",
     "grade": false,
     "grade_id": "cell-d41c927083ba1402",
     "locked": false,
     "schema_version": 1,
     "solution": true
    }
   },
   "outputs": [],
   "source": [
    "# Edit following variable to answer question above.\n",
    "num_cells_transformed_by_trim = 3\n",
    "\n"
   ]
  },
  {
   "cell_type": "code",
   "execution_count": 19,
   "metadata": {
    "deletable": false,
    "editable": false,
    "nbgrader": {
     "checksum": "558aab23db90df213ac31914e5e96804",
     "grade": true,
     "grade_id": "cell-d4d80ede0814bade",
     "locked": true,
     "points": 8,
     "schema_version": 1,
     "solution": false
    }
   },
   "outputs": [],
   "source": [
    "# This cell will test if you gave the above answer correctly.\n",
    "# It will run only after submission\n"
   ]
  },
  {
   "cell_type": "markdown",
   "metadata": {
    "deletable": false,
    "editable": false,
    "nbgrader": {
     "checksum": "0a2245f2f0a1e8ca73a01283553c6816",
     "grade": false,
     "grade_id": "cell-747a842d8b4e7f60",
     "locked": true,
     "schema_version": 1,
     "solution": false
    }
   },
   "source": [
    "1. Click the down arrow at the top of the `scientificName` column. Choose `Edit Column > Split into several columns`  \n",
    "2. In the pop-up, in the Separator box, replace the comma with a space.\n",
    "3. Uncheck the box that says Remove this column.\n",
    "4. Click `OK`. You’ll get some new columns called `scientificName 1`, `scientificName 2`\n",
    "5. Click the down arrow and then `Edit column > Rename this column`. Rename `scientificName 1` to `genus`, `scientificName 2` to `speciesName`.\n",
    "6. Now do another `Facet > Text facet` on the `genus` column to find out about the count of the most observed genus. What genus is it? Answer in cell below. [8 points]"
   ]
  },
  {
   "cell_type": "code",
   "execution_count": 20,
   "metadata": {
    "deletable": false,
    "nbgrader": {
     "checksum": "2ca46ec06fb837cba4fa0813a8487262",
     "grade": false,
     "grade_id": "cell-5d3ff90135d842e2",
     "locked": false,
     "schema_version": 1,
     "solution": true
    }
   },
   "outputs": [],
   "source": [
    "# Edit following variable to answer question above.\n",
    "most_observed_genus = 'Dipodomys'\n",
    "\n"
   ]
  },
  {
   "cell_type": "code",
   "execution_count": 21,
   "metadata": {
    "deletable": false,
    "editable": false,
    "nbgrader": {
     "checksum": "42def7edde4643eef4b09edde63feff5",
     "grade": true,
     "grade_id": "cell-01a768fc58ce59da",
     "locked": true,
     "points": 8,
     "schema_version": 1,
     "solution": false
    }
   },
   "outputs": [],
   "source": [
    "# This cell will test if you gave the above answer correctly.\n",
    "# It will run only after submission\n"
   ]
  },
  {
   "cell_type": "markdown",
   "metadata": {
    "deletable": false,
    "editable": false,
    "nbgrader": {
     "checksum": "29f211a8d880e23811f3b657bbd41a6a",
     "grade": false,
     "grade_id": "cell-609148d299bb1617",
     "locked": true,
     "schema_version": 1,
     "solution": false
    }
   },
   "source": [
    "[8 points] What is the count of the most observed genus you identified above?"
   ]
  },
  {
   "cell_type": "code",
   "execution_count": 22,
   "metadata": {
    "deletable": false,
    "nbgrader": {
     "checksum": "660bf68845fd878fd55baafe192fee5d",
     "grade": false,
     "grade_id": "cell-62db17a371df28a5",
     "locked": false,
     "schema_version": 1,
     "solution": true
    }
   },
   "outputs": [],
   "source": [
    "# Edit following variable to answer question above.\n",
    "count_of_most_observed_genus = 16127\n",
    "\n"
   ]
  },
  {
   "cell_type": "code",
   "execution_count": 23,
   "metadata": {
    "deletable": false,
    "editable": false,
    "nbgrader": {
     "checksum": "86d7e7cfbe32562b25170fa8301d36ec",
     "grade": true,
     "grade_id": "cell-a28a167d32e72e05",
     "locked": true,
     "points": 8,
     "schema_version": 1,
     "solution": false
    }
   },
   "outputs": [],
   "source": [
    "# This cell will test if you gave the above answer correctly.\n",
    "# It will run only after submission\n"
   ]
  },
  {
   "cell_type": "markdown",
   "metadata": {
    "deletable": false,
    "editable": false,
    "nbgrader": {
     "checksum": "c06bc8f3f5b306a984b8d897e5830529",
     "grade": false,
     "grade_id": "cell-d22110abc2fd4f6c",
     "locked": true,
     "schema_version": 1,
     "solution": false
    }
   },
   "source": [
    "## Numbers and Scatterplot"
   ]
  },
  {
   "cell_type": "markdown",
   "metadata": {
    "deletable": false,
    "editable": false,
    "nbgrader": {
     "checksum": "a108fd43a19eba3ee91448432b151541",
     "grade": false,
     "grade_id": "cell-de8f189f1b851fab",
     "locked": true,
     "schema_version": 1,
     "solution": false
    }
   },
   "source": [
    "1. To transform cells in the `recordID` column to numbers, click the down arrow for that column, then `Edit cells > Common transforms… > To number`. You will notice the `recordID` values change from left-justified to right-justified, and black to green color.  \n",
    "2. Perform the same task for the column `period`. \n",
    "\n",
    "[8 points]  How many cells did you change in total for the period column?"
   ]
  },
  {
   "cell_type": "code",
   "execution_count": 24,
   "metadata": {
    "deletable": false,
    "nbgrader": {
     "checksum": "e4930e9ac589bc78e69c5078cdd13cee",
     "grade": false,
     "grade_id": "cell-1358e383cebafe82",
     "locked": false,
     "schema_version": 1,
     "solution": true
    }
   },
   "outputs": [],
   "source": [
    "# Edit following variable to answer question above.\n",
    "count_of_period_cells_changed_to_number = 35549\n",
    "\n"
   ]
  },
  {
   "cell_type": "code",
   "execution_count": 25,
   "metadata": {
    "deletable": false,
    "editable": false,
    "nbgrader": {
     "checksum": "596f6a8cf49ff8276519478476d730db",
     "grade": true,
     "grade_id": "cell-6831e9ccf6d0a841",
     "locked": true,
     "points": 8,
     "schema_version": 1,
     "solution": false
    }
   },
   "outputs": [],
   "source": [
    "# This cell will test if you gave the above answer correctly.\n",
    "# It will run only after submission\n"
   ]
  },
  {
   "cell_type": "markdown",
   "metadata": {
    "deletable": false,
    "editable": false,
    "nbgrader": {
     "checksum": "e38d24cdb855d63e03e68b3c84515c58",
     "grade": false,
     "grade_id": "cell-8cb9eba6b9c39055",
     "locked": true,
     "schema_version": 1,
     "solution": false
    }
   },
   "source": [
    "1. For the `recordID` column, use the pulldown menu to apply a numeric facet to the column you edited. The facet will appear in the left panel.\n",
    "2. Select a the numeric column `recordID`, and use the pulldown menu to `Facet > Scatterplot facet`. Click on the Scatterplot Matrix square for `recordID` and `period` to get that as a facet in the left margin. Export the scatterplot, save the image and upload it in the same directory which has this notebook (`/home/<netid>/openrefine`)\n",
    "It will be part of your submission. [10 points]\n",
    "\n",
    "Once you have uploaded the image, just set a variable `uploaded = True` in next cell. This way we will know that you didn't accidentally miss this part of the assignment."
   ]
  },
  {
   "cell_type": "code",
   "execution_count": 26,
   "metadata": {
    "deletable": false,
    "nbgrader": {
     "checksum": "1ad5fcdae8665c0c2c878214f6d3dd24",
     "grade": true,
     "grade_id": "cell-25f9003b5e78b5df",
     "locked": false,
     "points": 10,
     "schema_version": 1,
     "solution": true
    }
   },
   "outputs": [],
   "source": [
    "uploaded = True"
   ]
  }
 ],
 "metadata": {
  "kernelspec": {
   "display_name": "Python 3",
   "language": "python",
   "name": "python3"
  },
  "language_info": {
   "codemirror_mode": {
    "name": "ipython",
    "version": 3
   },
   "file_extension": ".py",
   "mimetype": "text/x-python",
   "name": "python",
   "nbconvert_exporter": "python",
   "pygments_lexer": "ipython3",
   "version": "3.6.5"
  }
 },
 "nbformat": 4,
 "nbformat_minor": 2
}
